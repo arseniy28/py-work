{
 "cells": [
  {
   "cell_type": "code",
   "execution_count": null,
   "metadata": {},
   "outputs": [
    {
     "name": "stdout",
     "output_type": "stream",
     "text": [
      "Массив: [45, 74, 64, 28, 16, 19, 7, 51, 3, 80, 9, 93, 51, 19, 83, 54, 60, 84, 54, 12]\n",
      "Максимальное четное число: 84\n"
     ]
    }
   ],
   "source": [
    "import random\n",
    "arr = [random.randint(1, 100) for _ in range(20)]\n",
    "max_even = max((x for x in arr if x % 2 == 0), default=None)\n",
    "print(\"Массив:\", arr)\n",
    "print(\"Максимальное четное число:\", max_even)"
   ]
  },
  {
   "cell_type": "code",
   "execution_count": 9,
   "metadata": {},
   "outputs": [
    {
     "name": "stdout",
     "output_type": "stream",
     "text": [
      "Двумерный массив:\n",
      "[[1 2 3 2 1]\n",
      " [4 5 6 7 8]\n",
      " [9 8 7 8 9]]\n",
      "Результат: [1, 0, 1]\n"
     ]
    }
   ],
   "source": [
    "import numpy as np\n",
    "матрица = np.array([\n",
    "    [1, 2, 3, 2, 1],\n",
    "    [4, 5, 6, 7, 8],\n",
    "    [9, 8, 7, 8, 9]\n",
    "])\n",
    "result = [1 if np.array_equal(row, row[::-1]) else 0 for row in матрица]\n",
    "print(\"Двумерный массив:\")\n",
    "print(матрица)\n",
    "print(\"Результат:\", result)"
   ]
  },
  {
   "cell_type": "code",
   "execution_count": 11,
   "metadata": {},
   "outputs": [
    {
     "name": "stdout",
     "output_type": "stream",
     "text": [
      "Результат: .....I..II\n"
     ]
    }
   ],
   "source": [
    "N = int(input(\"Введите количество кеглей (N): \"))\n",
    "K = int(input(\"Введите количество бросков (K): \"))\n",
    "pins = [\"I\"] * N  \n",
    "for _ in range(K):\n",
    "    li, ri = map(int, input(\"Введите li и ri через пробел: \").split())\n",
    "    for i in range(li - 1, ri):\n",
    "        pins[i] = \".\"\n",
    "print(\"Результат:\", \"\".join(pins))\n"
   ]
  },
  {
   "cell_type": "code",
   "execution_count": null,
   "metadata": {},
   "outputs": [
    {
     "name": "stdout",
     "output_type": "stream",
     "text": [
      "Количество семей в доме: 89\n"
     ]
    }
   ],
   "source": [
    "gazeta = 75\n",
    "journal = 27\n",
    "both = 13\n",
    "total_families = gazeta + journal - both\n",
    "print(\"Количество семей в доме:\", total_families)"
   ]
  },
  {
   "cell_type": "code",
   "execution_count": null,
   "metadata": {},
   "outputs": [
    {
     "name": "stdout",
     "output_type": "stream",
     "text": [
      "Словарь кубов: {1: 1, 2: 8, 3: 27, 4: 64, 5: 125, 6: 216, 7: 343, 8: 512, 9: 729, 10: 1000}\n"
     ]
    }
   ],
   "source": [
    "cube_dict = {x: x**3 for x in range(1, 11)}\n",
    "print(\"Словарь кубов:\", cube_dict)"
   ]
  }
 ],
 "metadata": {
  "kernelspec": {
   "display_name": "Python 3",
   "language": "python",
   "name": "python3"
  },
  "language_info": {
   "codemirror_mode": {
    "name": "ipython",
    "version": 3
   },
   "file_extension": ".py",
   "mimetype": "text/x-python",
   "name": "python",
   "nbconvert_exporter": "python",
   "pygments_lexer": "ipython3",
   "version": "3.12.7"
  }
 },
 "nbformat": 4,
 "nbformat_minor": 2
}
